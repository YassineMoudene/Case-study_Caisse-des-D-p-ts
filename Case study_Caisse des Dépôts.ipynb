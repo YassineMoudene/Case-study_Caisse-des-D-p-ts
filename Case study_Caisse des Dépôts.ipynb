{
 "cells": [
  {
   "cell_type": "markdown",
   "id": "74d917da",
   "metadata": {},
   "source": [
    "<h1 style=\"background-color:#89ABE3FF;font-family:serif;color:white;font-size:350%;text-align:center;border-radius: 15px 50px;\">Case study : Caisse des Dépôts</h1>"
   ]
  },
  {
   "cell_type": "markdown",
   "id": "5f95f2cf",
   "metadata": {},
   "source": [
    "# Table Of Content\n",
    "\n",
    "* [1. Introduction](#1)\n",
    "* [2. Data and Libraries](#2)\n",
    "* [3. Data preprocessing](#3)\n",
    "* [4. The dictionaries of labels](#4)\n",
    "* [5. Changing the labels in the data to the labels in the dictionary](#5)\n",
    "* [6. Replacing the codes based on the labels](#6)\n",
    "* [7. Replacing the codes based on the codes](#7)\n",
    "* [8. Tokenizing the labels](#8)\n",
    "* [9. Word embedding using Word2Vec](#9)\n",
    "* [10. KNN-Classifier model for statut T](#10)\n",
    "* [11. KNN-Classifier model for statut H](#11)\n",
    "* [12. Hyperparameter tuning](#12)\n",
    "* [13. Predicting EMPLOI_STATUTAIRE in the dataframe](#13)"
   ]
  },
  {
   "cell_type": "markdown",
   "id": "2b4c7fb4",
   "metadata": {},
   "source": [
    "<a id=\"1\"></a>\n",
    "<h3 style=\"background-color:#89ABE3FF;font-family:serif;color:white;font-size:300%;text-align:center;border-radius: 15px 50px;\">Introduction</h3>"
   ]
  },
  {
   "cell_type": "markdown",
   "id": "f47b3b82",
   "metadata": {},
   "source": [
    "Among the pension schemes managed by the Caisse des Dépôts, the CNRACL stands out as the largest basic pension scheme in terms of the number of contributors, pensioners, and the amount of pensions paid. The management challenges of this scheme are particularly significant. Forecasts and other projections of the scheme play a crucial role in its management, as they help identify challenges and examine the impact of past reforms or future measures. These projections primarily rely on the scheme's management data (administrative information about individuals, career data, etc.) provided during employer declarations. However, other sources of data may complement this information.\n",
    "\n",
    "The quality of the transmitted, retrieved, and processed data is therefore a particularly important issue for the Directorate of Studies and Statistics, responsible for conducting the projections. Furthermore, the CNRACL's pension projection model is a microsimulation model named Canopée, which simulates individual trajectories rather than operating at an aggregated level. In this regard, it is essential to have, for each person in the model (individuals present in the initial workforce - contributors and pensioners - or projected), their characteristics. Thus, for each selected variable, it is necessary to have the desired information or, alternatively, be able to assign it using the most precise completion or estimation based on historical data or the study of other individuals.\n",
    "\n",
    "The CNRACL manages individuals affiliated with the local civil service (FPT) as well as those affiliated with the hospital civil service (FPH). Other civil servants on secondment in either of these entities, originating from the central civil service (FPE) or other administrations, may also be present in the workforce and, consequently, in the data.\n",
    "\n",
    "Each civil servant belongs to a body or employment framework classified into categories A, B, or C. Within this body or employment framework, they hold a grade. The sectors, in turn, bring together the employment frameworks/bodies in the same sector of activity."
   ]
  },
  {
   "cell_type": "markdown",
   "id": "b009f21b",
   "metadata": {},
   "source": [
    "<a id=\"2\"></a>\n",
    "<h3 style=\"background-color:#89ABE3FF;font-family:serif;color:white;font-size:300%;text-align:center;border-radius: 15px 50px;\">Data and Libraries</h3>"
   ]
  },
  {
   "cell_type": "code",
   "execution_count": 1,
   "id": "ae17b79e",
   "metadata": {},
   "outputs": [],
   "source": [
    "import pandas as pd\n",
    "import seaborn as sns\n",
    "import numpy as np\n",
    "import matplotlib.pyplot as plt\n",
    "import warnings\n",
    "warnings.simplefilter(\"ignore\")"
   ]
  },
  {
   "cell_type": "code",
   "execution_count": 2,
   "id": "86e05681",
   "metadata": {},
   "outputs": [],
   "source": [
    "# Importing the data\n",
    "data = pd.read_csv(r'C:\\Users\\moude\\Desktop\\M1\\S2\\Econometrics of Big Data I\\Projet\\hackhaton_020k_alea_b.csv', encoding='latin-1')\n",
    "# Filling NaN with empty strings\n",
    "data.fillna(\"\",inplace=True)"
   ]
  },
  {
   "cell_type": "markdown",
   "id": "a8d20de6",
   "metadata": {},
   "source": [
    "<a id=\"3\"></a>\n",
    "<h3 style=\"background-color:#89ABE3FF;font-family:serif;color:white;font-size:300%;text-align:center;border-radius: 15px 50px;\">Data preprocessing</h3>"
   ]
  },
  {
   "cell_type": "code",
   "execution_count": 3,
   "id": "bf82f4c2",
   "metadata": {},
   "outputs": [],
   "source": [
    "# Fixing the date format\n",
    "data['date_debut'] = pd.to_datetime(data['date_debut'], format='%d/%m/%Y')\n",
    "data['date_fin'] = pd.to_datetime(data['date_fin'], format='%d/%m/%Y')"
   ]
  },
  {
   "cell_type": "code",
   "execution_count": 4,
   "id": "0ffeaffd",
   "metadata": {},
   "outputs": [],
   "source": [
    "# Joining the columns Unnamed: 10','Unnamed: 11 in the LIBELLE_EMPLOI_GRADE\n",
    "data['LIBELLE_EMPLOI_GRADE'] = data['LIBELLE_EMPLOI_GRADE'] + data['Unnamed: 10'] + data['Unnamed: 11']\n",
    "data['LIBELLE_EMPLOI_GRADE'] = data['LIBELLE_EMPLOI_GRADE'].str.strip().astype(str)"
   ]
  },
  {
   "cell_type": "code",
   "execution_count": 5,
   "id": "a0cc0fcf",
   "metadata": {},
   "outputs": [],
   "source": [
    "# Removing the columns Unnamed: 10','Unnamed: 11\n",
    "data = data.drop(['Unnamed: 10','Unnamed: 11'], axis = 1)"
   ]
  },
  {
   "cell_type": "code",
   "execution_count": 6,
   "id": "5dc74421",
   "metadata": {},
   "outputs": [],
   "source": [
    "# Leaving only alphanumeric values in the labels\n",
    "data['LIBELLE_EMPLOI_GRADE'] = data['LIBELLE_EMPLOI_GRADE'].str.replace('[^0-9a-zA-Z ]+', '')\n",
    "# Lowering and capitalizing the labels\n",
    "data['LIBELLE_EMPLOI_GRADE'] = data['LIBELLE_EMPLOI_GRADE'].str.lower()\n",
    "data['LIBELLE_EMPLOI_GRADE'] = data['LIBELLE_EMPLOI_GRADE'].str.capitalize()"
   ]
  },
  {
   "cell_type": "code",
   "execution_count": null,
   "id": "f1c9b1f7",
   "metadata": {},
   "outputs": [],
   "source": [
    "data['index'] = np.arange(len(data))\n",
    "data.set_index('index',inplace=True) "
   ]
  },
  {
   "cell_type": "code",
   "execution_count": 7,
   "id": "3adb5b28",
   "metadata": {},
   "outputs": [],
   "source": [
    "data1 = data.copy()\n",
    "counts1 = (data['EMPLOI_STATUTAIRE']=='').value_counts()\n",
    "range_data = np.where((data['EMPLOI_STATUTAIRE']=='') )\n",
    "#np.size(range_data) == 567821\n",
    "idx = np.intersect1d(range_data, data.index)\n",
    "# type(idx) == numpy.ndarray\n",
    "\n",
    "# data.shape[0] == 1048575\n",
    "prev_rows = data.shift(1)# the first row is NaN and the last is missed\n",
    "#prev_rows.shape[0] == 1048575\n",
    "next_rows = data.shift(-1) #the first row is missed and the last row is NaN\n",
    "#next_rows.shape[0] == 1048575\n",
    "\n",
    "# This is to replace an empty EMPLOI_STATUTAIRE if the rows before and after are similar\n",
    "col = ['ID_CARRIERE','ETAT','CATEGORIE_EMPLOI','QUALITE','LIBELLE_EMPLOI_GRADE']\n",
    "all_true_rows = (data.loc[idx, col] == prev_rows.loc[idx, col]) & (data.loc[idx, col] == next_rows.loc[idx, col])\n",
    "goodindex = all_true_rows[all_true_rows.all(axis=1)].index# The second row is all ture\n",
    "data.loc[goodindex, 'EMPLOI_STATUTAIRE'] = next_rows.loc[goodindex, 'EMPLOI_STATUTAIRE']\n",
    "counts2 = (data['EMPLOI_STATUTAIRE']=='').value_counts()"
   ]
  },
  {
   "cell_type": "markdown",
   "id": "76513031",
   "metadata": {},
   "source": [
    "<a id=\"4\"></a>\n",
    "<h3 style=\"background-color:#89ABE3FF;font-family:serif;color:white;font-size:300%;text-align:center;border-radius: 15px 50px;\">The dictionaries of labels</h3>"
   ]
  },
  {
   "cell_type": "code",
   "execution_count": 79,
   "id": "cfcb13e0",
   "metadata": {},
   "outputs": [],
   "source": [
    "code_libelle = pd.read_csv(r'C:\\Users\\moude\\Desktop\\M1\\S2\\Econometrics of Big Data I\\Projet\\N4DS-NET-V01X16.csv', encoding = \"ISO-8859-1\", sep = ';')\n",
    "# Creating a dataframe with code and libellé\n",
    "code_libelle = code_libelle[['code', 'libellé']]\n",
    "# Splitting the strings\n",
    "code_libelle['libellé'] = code_libelle['libellé'].str.split('/')\n",
    "# making the columns from strings\n",
    "code_libelle['statut'] = code_libelle['libellé'].str[0]\n",
    "code_libelle['libellé'] = code_libelle['libellé'].str[1]\n",
    "# Removing spaces\n",
    "code_libelle['libellé'] = code_libelle['libellé'].str.strip()\n",
    "code_libelle['statut'] = code_libelle['statut'].str.strip()"
   ]
  },
  {
   "cell_type": "code",
   "execution_count": 80,
   "id": "9d324454",
   "metadata": {},
   "outputs": [],
   "source": [
    "# Seperating the dataframe based on the statut\n",
    "Non_TIT = code_libelle[code_libelle['statut'] == 'Non-TIT.']\n",
    "F_P_E = code_libelle[code_libelle['statut'] == 'F.P.E.']\n",
    "F_P_H = code_libelle[code_libelle['statut'] == 'F.P.H.']\n",
    "F_P_T = code_libelle[code_libelle['statut'] == 'F.P.T.']\n",
    "F_M_A = code_libelle[code_libelle['statut'] == 'F.M.A.']\n",
    "STAG = code_libelle[code_libelle['statut'] == 'STAG.']\n",
    "AUTRES = code_libelle[code_libelle['statut'] == 'AUTRES']\n",
    "\n",
    "# Setting code to index\n",
    "Non_TIT.set_index('code',inplace=True)\n",
    "F_P_E.set_index('code',inplace=True)\n",
    "F_P_H.set_index('code',inplace=True)\n",
    "F_P_T.set_index('code',inplace=True)\n",
    "F_M_A.set_index('code',inplace=True)\n",
    "STAG.set_index('code',inplace=True)\n",
    "AUTRES.set_index('code',inplace=True)\n",
    "\n",
    "# Makinf a dictionnary for each statut\n",
    "dict_Non_TIT = Non_TIT.to_dict()['libellé']\n",
    "dict_F_P_E = F_P_E.to_dict()['libellé']\n",
    "dict_F_P_H = F_P_H.to_dict()['libellé']\n",
    "dict_F_P_T = F_P_T.to_dict()['libellé']\n",
    "dict_F_M_A = F_M_A.to_dict()['libellé']\n",
    "dict_STAG = STAG.to_dict()['libellé']\n",
    "dict_AUTRES = AUTRES.to_dict()['libellé']"
   ]
  },
  {
   "cell_type": "markdown",
   "id": "a2dc9d8b",
   "metadata": {},
   "source": [
    "<a id=\"5\"></a>\n",
    "<h3 style=\"background-color:#89ABE3FF;font-family:serif;color:white;font-size:300%;text-align:center;border-radius: 15px 50px;\"> Changing the labels in the data to the labels in the dictionary</h3>"
   ]
  },
  {
   "cell_type": "markdown",
   "id": "cc0dc212",
   "metadata": {},
   "source": [
    "The nombre of instances in each statut.\n",
    "\n",
    "**Name: STATUT_AGENT**\n",
    "\n",
    "- T    : 643065\n",
    "- H    : 405018\n",
    "- E    :   214\n",
    "\n",
    "The objectif is to find labels that are close to the standard labels, so that we can replace them.\n",
    "Examples of matching strings that will replace each other :\n",
    "- Infirmi¿re cl. sup¿rieure : Infirmier de classe supérieure\n",
    "- Infirmiere de classe sup : Infirmier de classe supérieure\n",
    "- Infirmier de classe normale (c : Infirmier de classe normale\n",
    "- Cadre de sant == Cadre de santé\n",
    "- Infirmier classe normale == Infirmier de classe normale\n",
    "- Infirmierdeclassenormale == Infirmier de classe normale\n",
    "\n",
    "After replacing them, it would be easier to filling in their codes."
   ]
  },
  {
   "cell_type": "code",
   "execution_count": 16,
   "id": "1c688d91",
   "metadata": {},
   "outputs": [],
   "source": [
    "# changing the labels with statut T and labels with missing EMPLOI_STATUTAIRE\n",
    "statut_T = data.loc[(data['EMPLOI_STATUTAIRE'] == '') & (data['LIBELLE_EMPLOI_GRADE'] != '') & (data['STATUT_AGENT'] == 'T')]\n",
    "\n",
    "# Getting the labels in the dictionnary\n",
    "labels_T = [lib for code, lib in dict_F_P_T.items()]"
   ]
  },
  {
   "cell_type": "markdown",
   "id": "3bfe1c4a",
   "metadata": {},
   "source": [
    "We will use fuzz ratio to replace the labels that have a ratio of 90 or more."
   ]
  },
  {
   "cell_type": "code",
   "execution_count": 19,
   "id": "4caa6a9f",
   "metadata": {},
   "outputs": [],
   "source": [
    "from fuzzywuzzy import fuzz\n",
    "for index, value in statut_T['LIBELLE_EMPLOI_GRADE'].iteritems():\n",
    "    for label in labels_T:\n",
    "        if fuzz.ratio(value, label) >= 90:\n",
    "            statut_T.at[index, 'LIBELLE_EMPLOI_GRADE'] = label"
   ]
  },
  {
   "cell_type": "code",
   "execution_count": null,
   "id": "58bdd354",
   "metadata": {},
   "outputs": [],
   "source": [
    "# changing the labels with statut H and labels with missing EMPLOI_STATUTAIRE\n",
    "statut_H = data.loc[(data['EMPLOI_STATUTAIRE'] == '') & (data['LIBELLE_EMPLOI_GRADE'] != '') & (data['STATUT_AGENT'] == 'H')]\n",
    "\n",
    "# Getting the labels in the dictionnary\n",
    "labels_H = [lib for code, lib in dict_F_P_H.items()]"
   ]
  },
  {
   "cell_type": "code",
   "execution_count": null,
   "id": "5e496c76",
   "metadata": {},
   "outputs": [],
   "source": [
    "for index, value in statut_H['LIBELLE_EMPLOI_GRADE'].iteritems():\n",
    "    for label in labels_H:\n",
    "        if fuzz.ratio(value, label) >= 90:\n",
    "            statut_H.at[index, 'LIBELLE_EMPLOI_GRADE'] = label"
   ]
  },
  {
   "cell_type": "markdown",
   "id": "5126f700",
   "metadata": {},
   "source": [
    "<a id=\"6\"></a>\n",
    "<h3 style=\"background-color:#89ABE3FF;font-family:serif;color:white;font-size:300%;text-align:center;border-radius: 15px 50px;\"> Replacing the codes based on the labels</h3>"
   ]
  },
  {
   "cell_type": "code",
   "execution_count": null,
   "id": "22140238",
   "metadata": {},
   "outputs": [],
   "source": [
    "# Getting the matching labels\n",
    "statut_labels_T = statut_T[statut_T['LIBELLE_EMPLOI_GRADE'].isin(labels_T)]\n",
    "statut_labels_H = statut_T[statut_H['LIBELLE_EMPLOI_GRADE'].isin(labels_H)]"
   ]
  },
  {
   "cell_type": "code",
   "execution_count": null,
   "id": "173efa9d",
   "metadata": {},
   "outputs": [],
   "source": [
    "range_T = statut_labels_T.index\n",
    "for code, lib in dict_F_P_T.items():\n",
    "    for i in range_T:\n",
    "        if lib == statut_labels_T['LIBELLE_EMPLOI_GRADE'][i]:\n",
    "            statut_labels_T['EMPLOI_STATUTAIRE'][i] = code"
   ]
  },
  {
   "cell_type": "code",
   "execution_count": null,
   "id": "4eeec03d",
   "metadata": {},
   "outputs": [],
   "source": [
    "range_H = statut_labels_H.index\n",
    "for code, lib in dict_F_P_H.items():\n",
    "    for i in range_H:\n",
    "        if lib == statut_labels_H['LIBELLE_EMPLOI_GRADE'][i]:\n",
    "            statut_labels_H['EMPLOI_STATUTAIRE'][i] = code"
   ]
  },
  {
   "cell_type": "markdown",
   "id": "17012996",
   "metadata": {},
   "source": [
    "<a id=\"7\"></a>\n",
    "<h3 style=\"background-color:#89ABE3FF;font-family:serif;color:white;font-size:300%;text-align:center;border-radius: 15px 50px;\"> Replacing the codes based on the codes</h3>"
   ]
  },
  {
   "cell_type": "code",
   "execution_count": 29,
   "id": "5911bf3b",
   "metadata": {},
   "outputs": [],
   "source": [
    "# Getting the codes in the dictionnary\n",
    "codes_T = [code for code, lib in dict_F_P_T.items()]"
   ]
  },
  {
   "cell_type": "code",
   "execution_count": 30,
   "id": "258314e0",
   "metadata": {},
   "outputs": [],
   "source": [
    "# Getting the data where EMPLOI_STATUTAIRE match labels\n",
    "data_codes_T = statut_T[statut_T['EMPLOI_STATUTAIRE'].isin(codes_T)]"
   ]
  },
  {
   "cell_type": "code",
   "execution_count": 33,
   "id": "352b7dd4",
   "metadata": {},
   "outputs": [],
   "source": [
    "data_codes_T = data_codes_T[data_codes_T['LIBELLE_EMPLOI_GRADE'] == '']"
   ]
  },
  {
   "cell_type": "code",
   "execution_count": 36,
   "id": "b2694f1f",
   "metadata": {},
   "outputs": [],
   "source": [
    "range_data_codes_T = data_codes_T.index\n",
    "for code, lib in dict_F_P_T.items():\n",
    "    for i in range_data_lib_T:\n",
    "        if code == data_codes_T['EMPLOI_STATUTAIRE'][i]:\n",
    "            data_codes_T['LIBELLE_EMPLOI_GRADE'][i] = lib"
   ]
  },
  {
   "cell_type": "markdown",
   "id": "eb453676",
   "metadata": {},
   "source": [
    "## Creating the dataframe to Train the model "
   ]
  },
  {
   "cell_type": "code",
   "execution_count": 14,
   "id": "b2d5ce18",
   "metadata": {},
   "outputs": [],
   "source": [
    "# data with statut T\n",
    "data_train = [['STATUT_AGENT', 'EMPLOI_STATUTAIRE', 'LIBELLE_EMPLOI_GRADE']]\n",
    "data_train = data.loc[(data['EMPLOI_STATUTAIRE'] != '') & (data['LIBELLE_EMPLOI_GRADE'] != '') & (data['STATUT_AGENT'] != '')]"
   ]
  },
  {
   "cell_type": "markdown",
   "id": "0e1576f0",
   "metadata": {},
   "source": [
    "<a id=\"8\"></a>\n",
    "<h3 style=\"background-color:#89ABE3FF;font-family:serif;color:white;font-size:300%;text-align:center;border-radius: 15px 50px;\"> Tokenizing the labels </h3>"
   ]
  },
  {
   "cell_type": "markdown",
   "id": "b88e655f",
   "metadata": {},
   "source": [
    "Examples on tokenization :\n",
    "\n",
    "    -  Infirmier soins generaux 2eme  =  [infirmier, soins, generaux, 2eme]\n",
    "    -  Adjoint administratif  =  [adjoint, administratif]\n",
    "    -  Adjt animation 1cl  =  [adjt, animation, 1cl]\n",
    "    -  Adjoint territorial du patrimo  =  [adjoint, territorial, du, patrimo]"
   ]
  },
  {
   "cell_type": "code",
   "execution_count": 9,
   "id": "bc58d6aa",
   "metadata": {},
   "outputs": [
    {
     "name": "stderr",
     "output_type": "stream",
     "text": [
      "[nltk_data] Downloading package punkt to\n",
      "[nltk_data]     C:\\Users\\moude\\AppData\\Roaming\\nltk_data...\n",
      "[nltk_data]   Package punkt is already up-to-date!\n"
     ]
    },
    {
     "data": {
      "text/plain": [
       "True"
      ]
     },
     "execution_count": 9,
     "metadata": {},
     "output_type": "execute_result"
    }
   ],
   "source": [
    "import nltk\n",
    "from nltk.tokenize import word_tokenize\n",
    "nltk.download('punkt')"
   ]
  },
  {
   "cell_type": "code",
   "execution_count": 15,
   "id": "f398999d",
   "metadata": {},
   "outputs": [],
   "source": [
    "# A function that tokenizes a given sentence\n",
    "def preprocess_sentence(sentence):\n",
    "    tokens = word_tokenize(sentence.lower())\n",
    "    return tokens"
   ]
  },
  {
   "cell_type": "code",
   "execution_count": 16,
   "id": "54c59c71",
   "metadata": {},
   "outputs": [],
   "source": [
    "# Applying the fucntion on data['LIBELLE_EMPLOI_GRADE'] column \n",
    "data_train['processed_LIBELLE_EMPLOI_GRADE'] = data_train['LIBELLE_EMPLOI_GRADE'].apply(preprocess_sentence)"
   ]
  },
  {
   "cell_type": "markdown",
   "id": "da68e69c",
   "metadata": {},
   "source": [
    "<a id=\"9\"></a>\n",
    "<h3 style=\"background-color:#89ABE3FF;font-family:serif;color:white;font-size:300%;text-align:center;border-radius: 15px 50px;\"> Word embedding using Word2Vec</h3>"
   ]
  },
  {
   "cell_type": "code",
   "execution_count": 17,
   "id": "6c29a181",
   "metadata": {},
   "outputs": [],
   "source": [
    "from gensim.models import Word2Vec"
   ]
  },
  {
   "cell_type": "code",
   "execution_count": 18,
   "id": "360fbfbb",
   "metadata": {},
   "outputs": [],
   "source": [
    "# Getting all the sentences\n",
    "sentences = data_train['processed_LIBELLE_EMPLOI_GRADE'].tolist()\n",
    "# Embeding the words\n",
    "WV_model = Word2Vec(sentences, vector_size=100, min_count=1)"
   ]
  },
  {
   "cell_type": "markdown",
   "id": "8f1c70b9",
   "metadata": {},
   "source": [
    "We are goin to use the word2vec model to convert each sentence in the dataframe into a vector representation."
   ]
  },
  {
   "cell_type": "code",
   "execution_count": 19,
   "id": "b852619f",
   "metadata": {},
   "outputs": [],
   "source": [
    "def get_sentence_vector(sentence):\n",
    "    vector = []\n",
    "    for word in sentence:\n",
    "        if word in WV_model.wv.key_to_index:\n",
    "            vector.append(WV_model.wv[word])\n",
    "    if len(vector) > 0:\n",
    "        return np.mean(vector, axis=0)\n",
    "    else:\n",
    "        return np.zeros(100)"
   ]
  },
  {
   "cell_type": "code",
   "execution_count": 20,
   "id": "2873bef3",
   "metadata": {},
   "outputs": [],
   "source": [
    "data_train['LIBELLE_EMPLOI_GRADE_vector'] = data_train['processed_LIBELLE_EMPLOI_GRADE'].apply(get_sentence_vector)"
   ]
  },
  {
   "cell_type": "code",
   "execution_count": 21,
   "id": "37236b1f",
   "metadata": {},
   "outputs": [],
   "source": [
    "data_train_T = data_train.loc[data_train['STATUT_AGENT'] == 'T']\n",
    "data_train_H = data_train.loc[data_train['STATUT_AGENT'] == 'H']"
   ]
  },
  {
   "cell_type": "markdown",
   "id": "7b48376c",
   "metadata": {},
   "source": [
    "## Splitting the data for training and testing "
   ]
  },
  {
   "cell_type": "markdown",
   "id": "680eb80d",
   "metadata": {},
   "source": [
    "We will train the model for statut T first."
   ]
  },
  {
   "cell_type": "code",
   "execution_count": 24,
   "id": "d0da5728",
   "metadata": {},
   "outputs": [],
   "source": [
    "X_T = data_train_T['LIBELLE_EMPLOI_GRADE_vector'].tolist()\n",
    "y_T = data_train_T['EMPLOI_STATUTAIRE'].tolist()"
   ]
  },
  {
   "cell_type": "code",
   "execution_count": 25,
   "id": "48e07b52",
   "metadata": {},
   "outputs": [],
   "source": [
    "from sklearn.model_selection import train_test_split\n",
    "\n",
    "X_train_T, X_test_T, y_train_T, y_test_T = train_test_split(X_T, y_T, test_size=0.2, random_state=42)"
   ]
  },
  {
   "cell_type": "markdown",
   "id": "866bf4e0",
   "metadata": {},
   "source": [
    "<a id=\"10\"></a>\n",
    "<h3 style=\"background-color:#89ABE3FF;font-family:serif;color:white;font-size:300%;text-align:center;border-radius: 15px 50px;\"> KNN-Classifier model for statut T</h3>"
   ]
  },
  {
   "cell_type": "code",
   "execution_count": 34,
   "id": "53528f17",
   "metadata": {},
   "outputs": [
    {
     "data": {
      "text/plain": [
       "KNeighborsClassifier(n_neighbors=7)"
      ]
     },
     "execution_count": 34,
     "metadata": {},
     "output_type": "execute_result"
    }
   ],
   "source": [
    "from sklearn.neighbors import KNeighborsClassifier\n",
    "knnT_model = KNeighborsClassifier(n_neighbors=7)\n",
    "knnT_model.fit(X_train_T, y_train_T)"
   ]
  },
  {
   "cell_type": "code",
   "execution_count": 49,
   "id": "867d97d7",
   "metadata": {},
   "outputs": [],
   "source": [
    "y_pred_T = knnT_model.predict(X_test_T)\n",
    "accuracyT = accuracy_score(y_test_T, y_pred_T)"
   ]
  },
  {
   "cell_type": "code",
   "execution_count": 51,
   "id": "30a3160d",
   "metadata": {},
   "outputs": [
    {
     "name": "stdout",
     "output_type": "stream",
     "text": [
      "The accuracy of knnH_model is : 88.96%\n"
     ]
    }
   ],
   "source": [
    "print(f\"The accuracy of knnH_model is : {accuracyT * 100:.2f}%\")"
   ]
  },
  {
   "cell_type": "markdown",
   "id": "ef28d409",
   "metadata": {},
   "source": [
    "Now, We will train the model for statut H."
   ]
  },
  {
   "cell_type": "code",
   "execution_count": 35,
   "id": "447cf72d",
   "metadata": {},
   "outputs": [],
   "source": [
    "X_H = data_train_H['LIBELLE_EMPLOI_GRADE_vector'].tolist()\n",
    "y_H = data_train_H['EMPLOI_STATUTAIRE'].tolist()"
   ]
  },
  {
   "cell_type": "code",
   "execution_count": 36,
   "id": "11cd9657",
   "metadata": {},
   "outputs": [],
   "source": [
    "from sklearn.model_selection import train_test_split\n",
    "\n",
    "X_train_H, X_test_H, y_train_H, y_test_H = train_test_split(X_H, y_H, test_size=0.2, random_state=42)"
   ]
  },
  {
   "cell_type": "markdown",
   "id": "b392a96d",
   "metadata": {},
   "source": [
    "<a id=\"11\"></a>\n",
    "<h3 style=\"background-color:#89ABE3FF;font-family:serif;color:white;font-size:300%;text-align:center;border-radius: 15px 50px;\"> KNN-Classifier model for statut H</h3>"
   ]
  },
  {
   "cell_type": "code",
   "execution_count": 37,
   "id": "9fac7353",
   "metadata": {},
   "outputs": [
    {
     "data": {
      "text/plain": [
       "KNeighborsClassifier(n_neighbors=7)"
      ]
     },
     "execution_count": 37,
     "metadata": {},
     "output_type": "execute_result"
    }
   ],
   "source": [
    "knnH_model = KNeighborsClassifier(n_neighbors=7)\n",
    "knnH_model.fit(X_train_H, y_train_H)"
   ]
  },
  {
   "cell_type": "code",
   "execution_count": 44,
   "id": "4779f9e1",
   "metadata": {},
   "outputs": [],
   "source": [
    "y_pred_H = knnH_model.predict(X_test_H)\n",
    "accuracyH = accuracy_score(y_test_H, y_pred_H)"
   ]
  },
  {
   "cell_type": "code",
   "execution_count": 48,
   "id": "830df1a8",
   "metadata": {},
   "outputs": [
    {
     "name": "stdout",
     "output_type": "stream",
     "text": [
      "The accuracy of knnH_model is : 86.71%\n"
     ]
    }
   ],
   "source": [
    "print(f\"The accuracy of knnH_model is : {accuracyH * 100:.2f}%\")"
   ]
  },
  {
   "cell_type": "markdown",
   "id": "0d9a5b3d",
   "metadata": {},
   "source": [
    "<a id=\"12\"></a>\n",
    "<h3 style=\"background-color:#89ABE3FF;font-family:serif;color:white;font-size:300%;text-align:center;border-radius: 15px 50px;\"> Hyperparameter tuning</h3>"
   ]
  },
  {
   "cell_type": "code",
   "execution_count": 30,
   "id": "3a7be96f",
   "metadata": {},
   "outputs": [
    {
     "data": {
      "image/png": "[encoded data removed]",
      "text/plain": [
       "<Figure size 432x288 with 1 Axes>"
      ]
     },
     "metadata": {
      "needs_background": "light"
     },
     "output_type": "display_data"
    }
   ],
   "source": [
    "import matplotlib.pyplot as plt\n",
    "from sklearn.metrics import accuracy_score\n",
    "\n",
    "# Finding K that gives the best accuracy\n",
    "k_values = np.arange(1, 21)\n",
    "\n",
    "accuracies = []\n",
    "\n",
    "for k in k_values:\n",
    "    \n",
    "    knnT_model = KNeighborsClassifier(n_neighbors=k)\n",
    "    \n",
    "    knnT_model.fit(X_train_T, y_train_T)\n",
    "\n",
    "    y_pred_T = knnT_model.predict(X_test_T)\n",
    "    \n",
    "    # Calculating the accuracy of the model\n",
    "    accuracy = accuracy_score(y_test_T, y_pred_T)\n",
    "    \n",
    "    # Appending the accuracy to the list of accuracies\n",
    "    accuracies.append(accuracy)\n",
    "\n",
    "# Ploting the accuracies \n",
    "plt.plot(k_values, accuracies)\n",
    "plt.xlabel('k')\n",
    "plt.ylabel('Accuracy')\n",
    "plt.title('Accuracy vs k')\n",
    "plt.show()"
   ]
  },
  {
   "cell_type": "markdown",
   "id": "774dba23",
   "metadata": {},
   "source": [
    "We can see that K = 7 gives the best accuracy, which is 88.96%."
   ]
  },
  {
   "cell_type": "markdown",
   "id": "8dac1510",
   "metadata": {},
   "source": [
    "<a id=\"13\"></a>\n",
    "<h3 style=\"background-color:#89ABE3FF;font-family:serif;color:white;font-size:300%;text-align:center;border-radius: 15px 50px;\"> Predicting EMPLOI_STATUTAIRE in the dataframe</h3>"
   ]
  },
  {
   "cell_type": "code",
   "execution_count": 50,
   "id": "5c55e273",
   "metadata": {},
   "outputs": [],
   "source": [
    "# Getting the data with empty EMPLOI_STATUTAIRE and existing LIBELLE_EMPLOI_GRADE\n",
    "data_test_T = data.loc[(data['EMPLOI_STATUTAIRE'] == '') & (data['LIBELLE_EMPLOI_GRADE'] != '') & (data['STATUT_AGENT'] == 'T')]\n",
    "data_test_H = data.loc[(data['EMPLOI_STATUTAIRE'] == '') & (data['LIBELLE_EMPLOI_GRADE'] != '') & (data['STATUT_AGENT'] == 'H')]"
   ]
  },
  {
   "cell_type": "code",
   "execution_count": 57,
   "id": "d94109a7",
   "metadata": {},
   "outputs": [],
   "source": [
    "# Tokenizing thz labels\n",
    "data_test_T['processed_LIBELLE_EMPLOI_GRADE'] = data_test_T['LIBELLE_EMPLOI_GRADE'].apply(preprocess_sentence)\n",
    "data_test_H['processed_LIBELLE_EMPLOI_GRADE'] = data_test_H['LIBELLE_EMPLOI_GRADE'].apply(preprocess_sentence)"
   ]
  },
  {
   "cell_type": "code",
   "execution_count": 59,
   "id": "175c8090",
   "metadata": {},
   "outputs": [],
   "source": [
    "# Word embedding \n",
    "data_test_T['LIBELLE_EMPLOI_GRADE_vector'] = data_test_T['processed_LIBELLE_EMPLOI_GRADE'].apply(get_sentence_vector)\n",
    "data_test_H['LIBELLE_EMPLOI_GRADE_vector'] = data_test_H['processed_LIBELLE_EMPLOI_GRADE'].apply(get_sentence_vector)"
   ]
  },
  {
   "cell_type": "code",
   "execution_count": 61,
   "id": "b5af9987",
   "metadata": {},
   "outputs": [],
   "source": [
    "# vectors for prediction\n",
    "vectors_T = data_test_T['LIBELLE_EMPLOI_GRADE_vector'].tolist()\n",
    "vectors_H = data_test_H['LIBELLE_EMPLOI_GRADE_vector'].tolist()"
   ]
  },
  {
   "cell_type": "code",
   "execution_count": 77,
   "id": "99ac5e6d",
   "metadata": {},
   "outputs": [
    {
     "name": "stderr",
     "output_type": "stream",
     "text": [
      "Predicting EMPLOI_STATUTAIRE: 100%|██████████| 1000/1000 [02:43<00:00,  6.11it/s]\n"
     ]
    }
   ],
   "source": [
    "from tqdm import tqdm\n",
    "\n",
    "# Getting a list of the predicted values\n",
    "predicted_T = []\n",
    "\n",
    "# Create a progress bar with tqdm\n",
    "for vec in tqdm(vectors_T, desc='Predicting EMPLOI_STATUTAIRE'):\n",
    "    # Predict the EMPLOI_STATUTAIRE based on the vector representation\n",
    "    predicted_code = knnT_model.predict([vec])[0]\n",
    "    predicted_T.append(predicted_code)"
   ]
  },
  {
   "cell_type": "code",
   "execution_count": 73,
   "id": "82751fb7",
   "metadata": {},
   "outputs": [],
   "source": [
    "# Adding the predicted values to the DataFrame\n",
    "data_test_T['EMPLOI_STATUTAIRE'] = predicted_T"
   ]
  },
  {
   "cell_type": "code",
   "execution_count": null,
   "id": "9a415a43",
   "metadata": {},
   "outputs": [],
   "source": [
    "predicted_H = []\n",
    "\n",
    "for vec in tqdm(vectors_T, desc='Predicting EMPLOI_STATUTAIRE'):\n",
    "    # Predict the EMPLOI_STATUTAIRE based on the vector representation\n",
    "    predicted_code = knnT_model.predict([vec])[0]\n",
    "    predicted_T.append(predicted_code)"
   ]
  },
  {
   "cell_type": "code",
   "execution_count": null,
   "id": "ac3bb418",
   "metadata": {},
   "outputs": [],
   "source": [
    "# Adding the predicted values to the DataFrame\n",
    "data_test_H['EMPLOI_STATUTAIRE'] = predicted_H"
   ]
  }
 ],
 "metadata": {
  "kernelspec": {
   "display_name": "Python 3 (ipykernel)",
   "language": "python",
   "name": "python3"
  },
  "language_info": {
   "codemirror_mode": {
    "name": "ipython",
    "version": 3
   },
   "file_extension": ".py",
   "mimetype": "text/x-python",
   "name": "python",
   "nbconvert_exporter": "python",
   "pygments_lexer": "ipython3",
   "version": "3.9.12"
  }
 },
 "nbformat": 4,
 "nbformat_minor": 5
}
